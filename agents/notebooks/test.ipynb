{
 "cells": [
  {
   "cell_type": "code",
   "execution_count": 1,
   "id": "bd79c1ad",
   "metadata": {},
   "outputs": [
    {
     "name": "stderr",
     "output_type": "stream",
     "text": [
      "C:\\Users\\ibnhu\\AppData\\Local\\Temp\\ipykernel_66644\\3057900471.py:2: LangChainDeprecationWarning: The class `HuggingFaceEmbeddings` was deprecated in LangChain 0.2.2 and will be removed in 1.0. An updated version of the class exists in the :class:`~langchain-huggingface package and should be used instead. To use it run `pip install -U :class:`~langchain-huggingface` and import as `from :class:`~langchain_huggingface import HuggingFaceEmbeddings``.\n",
      "  embeddings = HuggingFaceEmbeddings(model_name =\"BAAI/bge-small-en\",show_progress=True)\n"
     ]
    }
   ],
   "source": [
    "from langchain.embeddings import HuggingFaceEmbeddings\n",
    "embeddings = HuggingFaceEmbeddings(model_name =\"BAAI/bge-small-en\",show_progress=True)"
   ]
  },
  {
   "cell_type": "code",
   "execution_count": 2,
   "id": "ede618ff",
   "metadata": {},
   "outputs": [],
   "source": [
    "from langchain.vectorstores import FAISS"
   ]
  },
  {
   "cell_type": "code",
   "execution_count": 3,
   "id": "ed96b1a6",
   "metadata": {},
   "outputs": [],
   "source": [
    "folder_path = r\"D:\\llmora\\agents\\embeddings\\job_description\"\n",
    "\n",
    "\n",
    "db = FAISS.load_local(\n",
    "    folder_path=folder_path,\n",
    "    embeddings=embeddings,\n",
    "    # index_name=\"index\",\n",
    "    allow_dangerous_deserialization=True\n",
    ")"
   ]
  },
  {
   "cell_type": "code",
   "execution_count": 13,
   "id": "014294aa",
   "metadata": {},
   "outputs": [
    {
     "data": {
      "application/vnd.jupyter.widget-view+json": {
       "model_id": "70dcc76050b54f13b5f60d48b82af6a7",
       "version_major": 2,
       "version_minor": 0
      },
      "text/plain": [
       "Batches:   0%|          | 0/1 [00:00<?, ?it/s]"
      ]
     },
     "metadata": {},
     "output_type": "display_data"
    }
   ],
   "source": [
    "fadhil_result = db.similarity_search_with_score(\"fadhil is experienced with prompt engineering nad fine tuning also he have skills in langchain, generative AI and machine learniing , 4 year experienced , strong skills in Mlops \",k=1)"
   ]
  },
  {
   "cell_type": "code",
   "execution_count": 8,
   "id": "ce338e1c",
   "metadata": {},
   "outputs": [
    {
     "data": {
      "application/vnd.jupyter.widget-view+json": {
       "model_id": "07fa2dbfaa0240cb8807f109fedba2af",
       "version_major": 2,
       "version_minor": 0
      },
      "text/plain": [
       "Batches:   0%|          | 0/1 [00:00<?, ?it/s]"
      ]
     },
     "metadata": {},
     "output_type": "display_data"
    }
   ],
   "source": [
    "fayad_result = db.similarity_search_with_score(\"fayad is experienced in teaching in chemical industry \",k=3)"
   ]
  },
  {
   "cell_type": "code",
   "execution_count": 9,
   "id": "86965837",
   "metadata": {},
   "outputs": [
    {
     "data": {
      "text/plain": [
       "[(Document(id='ce427878-1fab-44ba-97b2-2d97dbac2356', metadata={}, page_content='Bachelor’s or Master’s degree in Computer Science, AI, Machine Learning, or related field.\\r\\n\\r\\nStrong experience with Python, PyTorch, TensorFlow, or similar frameworks.\\r\\n\\r\\nHands-on experience with large language models (LLMs), generative transformers, or diffusion models.\\r\\n\\r\\nKnowledge of NLP, computer vision, or multimodal AI systems.\\r\\n\\r\\nExperience with data pipelines, embeddings, and vector databases (e.g., FAISS, Pinecone) is a plus.\\r\\n\\r\\nAbility to work collaboratively in a fast-paced, dynamic environment.\\r\\n\\r\\nPreferred Skills:'),\n",
       "  np.float32(0.4400667)),\n",
       " (Document(id='7fef339b-2804-4fc4-904f-2736234f2713', metadata={}, page_content='Ability to work collaboratively in a fast-paced, dynamic environment.\\r\\n\\r\\nPreferred Skills:\\r\\n\\r\\nExperience with prompt engineering, fine-tuning LLMs, or custom model deployment.\\r\\n\\r\\nFamiliarity with cloud platforms (AWS, GCP, Azure) for ML deployment.\\r\\n\\r\\nStrong problem-solving, analytical, and communication skills.\\r\\n\\r\\nBenefits:\\r\\n\\r\\nFlexible working hours and remote work options.\\r\\n\\r\\nOpportunity to work with cutting-edge AI technologies.\\r\\n\\r\\nCollaborative and innovative work environment.\\r\\n\\r\\nCareer growth and learning opportunities in AI and ML.'),\n",
       "  np.float32(0.49526086)),\n",
       " (Document(id='096ab063-f41a-4d20-8db3-50ced24d28c3', metadata={}, page_content='Fine-tune pre-trained language and multimodal models for domain-specific applications.\\r\\n\\r\\nCollaborate with product and research teams to integrate AI solutions into scalable products.\\r\\n\\r\\nAnalyze model performance, implement improvements, and ensure ethical and responsible AI usage.\\r\\n\\r\\nDevelop pipelines for data preprocessing, training, and evaluation of generative models.\\r\\n\\r\\nStay updated with the latest research and industry trends in generative AI.\\r\\n\\r\\nRequirements:\\r\\n\\r\\nBachelor’s or Master’s degree in Computer Science, AI, Machine Learning, or related field.'),\n",
       "  np.float32(0.49651012))]"
      ]
     },
     "execution_count": 9,
     "metadata": {},
     "output_type": "execute_result"
    }
   ],
   "source": [
    "fayad_result"
   ]
  },
  {
   "cell_type": "code",
   "execution_count": null,
   "id": "4dd5286e",
   "metadata": {},
   "outputs": [],
   "source": [
    "score = fadhil_result[1][1]"
   ]
  },
  {
   "cell_type": "code",
   "execution_count": 10,
   "id": "a4cadb04",
   "metadata": {},
   "outputs": [
    {
     "data": {
      "text/plain": [
       "np.float32(0.24493928)"
      ]
     },
     "execution_count": 10,
     "metadata": {},
     "output_type": "execute_result"
    }
   ],
   "source": [
    "score"
   ]
  },
  {
   "cell_type": "code",
   "execution_count": 14,
   "id": "29109104",
   "metadata": {},
   "outputs": [
    {
     "data": {
      "text/plain": [
       "[(Document(id='ce427878-1fab-44ba-97b2-2d97dbac2356', metadata={}, page_content='Bachelor’s or Master’s degree in Computer Science, AI, Machine Learning, or related field.\\r\\n\\r\\nStrong experience with Python, PyTorch, TensorFlow, or similar frameworks.\\r\\n\\r\\nHands-on experience with large language models (LLMs), generative transformers, or diffusion models.\\r\\n\\r\\nKnowledge of NLP, computer vision, or multimodal AI systems.\\r\\n\\r\\nExperience with data pipelines, embeddings, and vector databases (e.g., FAISS, Pinecone) is a plus.\\r\\n\\r\\nAbility to work collaboratively in a fast-paced, dynamic environment.\\r\\n\\r\\nPreferred Skills:'),\n",
       "  np.float32(0.24319935))]"
      ]
     },
     "execution_count": 14,
     "metadata": {},
     "output_type": "execute_result"
    }
   ],
   "source": [
    "fadhil_result"
   ]
  },
  {
   "cell_type": "code",
   "execution_count": 19,
   "id": "b64cee82",
   "metadata": {},
   "outputs": [
    {
     "data": {
      "application/vnd.jupyter.widget-view+json": {
       "model_id": "8861e7b8d1104ad3a79cbcbe21e35e36",
       "version_major": 2,
       "version_minor": 0
      },
      "text/plain": [
       "Batches:   0%|          | 0/1 [00:00<?, ?it/s]"
      ]
     },
     "metadata": {},
     "output_type": "display_data"
    }
   ],
   "source": [
    "fadhil_result = db.similarity_search_with_score(\"fadhil is experienced with prompt engineering nad fine tuning also he have skills in langchain, generative AI and machine learniing , 4 year experienced , strong skills in Mlops \",k=1)[0][1]"
   ]
  },
  {
   "cell_type": "code",
   "execution_count": 20,
   "id": "3b134ce8",
   "metadata": {},
   "outputs": [
    {
     "data": {
      "text/plain": [
       "np.float32(0.24319935)"
      ]
     },
     "execution_count": 20,
     "metadata": {},
     "output_type": "execute_result"
    }
   ],
   "source": [
    "fadhil_result"
   ]
  },
  {
   "cell_type": "code",
   "execution_count": null,
   "id": "7fabb4c0",
   "metadata": {},
   "outputs": [],
   "source": []
  }
 ],
 "metadata": {
  "kernelspec": {
   "display_name": "base",
   "language": "python",
   "name": "python3"
  },
  "language_info": {
   "codemirror_mode": {
    "name": "ipython",
    "version": 3
   },
   "file_extension": ".py",
   "mimetype": "text/x-python",
   "name": "python",
   "nbconvert_exporter": "python",
   "pygments_lexer": "ipython3",
   "version": "3.13.5"
  }
 },
 "nbformat": 4,
 "nbformat_minor": 5
}
